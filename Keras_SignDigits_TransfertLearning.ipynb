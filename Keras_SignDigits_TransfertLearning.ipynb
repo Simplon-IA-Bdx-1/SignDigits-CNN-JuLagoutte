{
 "cells": [
  {
   "cell_type": "code",
   "execution_count": null,
   "metadata": {},
   "outputs": [],
   "source": [
    "import numpy as np\n",
    "from pandas import DataFrame\n",
    "import keras"
   ]
  },
  {
   "cell_type": "code",
   "execution_count": null,
   "metadata": {},
   "outputs": [],
   "source": [
    "import matplotlib.pyplot as plt\n",
    "#%matplotlib notebook"
   ]
  },
  {
   "cell_type": "markdown",
   "metadata": {},
   "source": [
    "# Récupération et mise en forme des données"
   ]
  },
  {
   "cell_type": "code",
   "execution_count": null,
   "metadata": {},
   "outputs": [],
   "source": [
    "X = np.load('X.npy')\n",
    "Y = np.load('Y.npy')"
   ]
  },
  {
   "cell_type": "code",
   "execution_count": null,
   "metadata": {},
   "outputs": [],
   "source": [
    "X.shape"
   ]
  },
  {
   "cell_type": "code",
   "execution_count": null,
   "metadata": {},
   "outputs": [],
   "source": [
    "X_flat = np.array(X).reshape((2062, 64*64))\n",
    "X_flat.shape"
   ]
  },
  {
   "cell_type": "code",
   "execution_count": null,
   "metadata": {},
   "outputs": [],
   "source": [
    "Ydf = DataFrame(data=Y, columns=[9-x for x in range(10)])\n",
    "Ydf.head()"
   ]
  },
  {
   "cell_type": "code",
   "execution_count": null,
   "metadata": {},
   "outputs": [],
   "source": [
    "Ydf = Ydf[[x for x in range(10)]]\n",
    "Ydf.head()"
   ]
  },
  {
   "cell_type": "code",
   "execution_count": null,
   "metadata": {},
   "outputs": [],
   "source": [
    "Ydf['class']=(Ydf[range(10)].idxmax(axis=1)).astype('int')\n",
    "Ydf[['class']]"
   ]
  },
  {
   "cell_type": "code",
   "execution_count": null,
   "metadata": {},
   "outputs": [],
   "source": [
    "Y_flat = Ydf['class'].to_numpy()\n",
    "Y_flat.shape"
   ]
  },
  {
   "cell_type": "code",
   "execution_count": null,
   "metadata": {},
   "outputs": [],
   "source": [
    "Y_flat = Y_flat.reshape(-1,1)\n",
    "Y_flat.shape"
   ]
  },
  {
   "cell_type": "code",
   "execution_count": null,
   "metadata": {},
   "outputs": [],
   "source": [
    "from numpy import random as np_random\n",
    "\n",
    "SEED = 42\n",
    "np_random.seed(SEED)"
   ]
  },
  {
   "cell_type": "code",
   "execution_count": null,
   "metadata": {},
   "outputs": [],
   "source": [
    "# LEARNING_RATE = 0.001\n",
    "# EPOCHS = 500"
   ]
  },
  {
   "cell_type": "markdown",
   "metadata": {},
   "source": [
    "# Model Keras Application :"
   ]
  },
  {
   "cell_type": "code",
   "execution_count": null,
   "metadata": {},
   "outputs": [],
   "source": [
    "from keras.applications import *\n",
    "from keras.models import Sequential\n",
    "from keras.layers import Dense, Conv2D, Flatten, MaxPooling2D, Dropout #create model\n",
    "from keras.optimizers import Adam, Nadam\n",
    "from keras.optimizers import SGD\n",
    "from keras.optimizers import RMSprop\n",
    "import pandas as pd\n",
    "from sklearn.model_selection import train_test_split"
   ]
  },
  {
   "cell_type": "markdown",
   "metadata": {},
   "source": [
    "## Transfert learning avec predict"
   ]
  },
  {
   "cell_type": "code",
   "execution_count": null,
   "metadata": {},
   "outputs": [],
   "source": [
    "X_prepared_tl = np.stack((X,X,X), axis=3)\n",
    "X_prepared_tl.shape"
   ]
  },
  {
   "cell_type": "code",
   "execution_count": null,
   "metadata": {},
   "outputs": [],
   "source": [
    "def tl_features(app_keras, inputs):\n",
    "    model = app_keras(include_top=False, \n",
    "                            weights='imagenet', \n",
    "                            input_shape=(inputs.shape[1],inputs.shape[2],inputs.shape[3]), \n",
    "                            pooling=max)\n",
    "    features = model.predict(inputs)\n",
    "    features = features.reshape(features.shape[0],\n",
    "                                (features.shape[1]*features.shape[2]*features.shape[3]))\n",
    "    return features"
   ]
  },
  {
   "cell_type": "code",
   "execution_count": null,
   "metadata": {},
   "outputs": [],
   "source": [
    "features_vgg16 = tl_features(VGG16, X_prepared_tl)\n",
    "print(features_vgg16.shape)"
   ]
  },
  {
   "cell_type": "code",
   "execution_count": null,
   "metadata": {},
   "outputs": [],
   "source": [
    "features_mobilenet = tl_features(MobileNet, X_prepared_tl)\n",
    "print(features_mobilenet.shape)"
   ]
  },
  {
   "cell_type": "code",
   "execution_count": null,
   "metadata": {},
   "outputs": [],
   "source": [
    "features_vgg19 = tl_features(VGG19, X_prepared_tl)\n",
    "print(features_vgg19.shape)"
   ]
  },
  {
   "cell_type": "code",
   "execution_count": null,
   "metadata": {},
   "outputs": [],
   "source": [
    "def tl_model(features, output, OPTIMIZER, LEARNING_RATE, EPOCHS, BATCH_SIZE, nb_dense, ACTIVATION, INITIALIZER):\n",
    "    X_train, X_val, y_train, y_val = train_test_split(features, output, test_size=0.1)\n",
    "    \n",
    "    model = Sequential() #add model layers\n",
    "    model.add(Dense(32, activation=ACTIVATION, kernel_initializer=INITIALIZER))\n",
    "    model.add(Dropout(0.3))\n",
    "    model.add(Dense(16, activation=ACTIVATION, kernel_initializer=INITIALIZER))\n",
    "    model.add(Dropout(0.3))\n",
    "    model.add(Dense(nb_dense, activation='softmax'))\n",
    "    \n",
    "    model.compile(loss='sparse_categorical_crossentropy', \n",
    "                    optimizer=OPTIMIZER(lr=LEARNING_RATE), \n",
    "                    metrics = ['accuracy'])\n",
    "    \n",
    "    history = model.fit(X_train,\n",
    "                        y_train,\n",
    "                        validation_data=(X_val, y_val),\n",
    "                        epochs=EPOCHS,\n",
    "                        batch_size=BATCH_SIZE,\n",
    "                        verbose=2)\n",
    "    \n",
    "    pd.DataFrame(history.history).plot()\n",
    "    plt.grid(True)\n",
    "    plt.title('Model performance throughout training CNN')\n",
    "    plt.ylabel('metrics')\n",
    "    plt.xlabel('epoch')\n",
    "    plt.legend(['val_loss', 'val_acc', 'train_loss', 'train_acc'], loc='upper right')\n",
    "    plt.show()\n",
    "    return model"
   ]
  },
  {
   "cell_type": "code",
   "execution_count": null,
   "metadata": {},
   "outputs": [],
   "source": [
    "kwargs = {\n",
    "    'features' : features_vgg16,\n",
    "    'output' : Y_flat,\n",
    "    'OPTIMIZER' : Nadam,\n",
    "    'LEARNING_RATE' : 0.001,\n",
    "    'EPOCHS' : 50,\n",
    "    'BATCH_SIZE' : 64,\n",
    "    'nb_dense' : 10,\n",
    "    'ACTIVATION' : 'elu',\n",
    "    'INITIALIZER' : 'normal'\n",
    "}"
   ]
  },
  {
   "cell_type": "code",
   "execution_count": null,
   "metadata": {},
   "outputs": [],
   "source": [
    "model_vgg16 = tl_model(**kwargs)"
   ]
  },
  {
   "cell_type": "code",
   "execution_count": null,
   "metadata": {},
   "outputs": [],
   "source": [
    "model_vgg19 = tl_model(**kwargs)"
   ]
  },
  {
   "cell_type": "code",
   "execution_count": null,
   "metadata": {},
   "outputs": [],
   "source": [
    "model_mobilenet = tl_model(**kwargs)"
   ]
  }
 ],
 "metadata": {
  "kernelspec": {
   "display_name": "Python 3",
   "language": "python",
   "name": "python3"
  },
  "language_info": {
   "codemirror_mode": {
    "name": "ipython",
    "version": 3
   },
   "file_extension": ".py",
   "mimetype": "text/x-python",
   "name": "python",
   "nbconvert_exporter": "python",
   "pygments_lexer": "ipython3",
   "version": "3.7.4"
  }
 },
 "nbformat": 4,
 "nbformat_minor": 2
}
