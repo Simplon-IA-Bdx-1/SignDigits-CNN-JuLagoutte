{
 "cells": [
  {
   "cell_type": "code",
   "execution_count": null,
   "metadata": {},
   "outputs": [],
   "source": [
    "import numpy as np\n",
    "from pandas import DataFrame\n",
    "import keras\n",
    "import pandas as pd"
   ]
  },
  {
   "cell_type": "code",
   "execution_count": null,
   "metadata": {},
   "outputs": [],
   "source": [
    "import matplotlib.pyplot as plt\n",
    "# %matplotlib notebook"
   ]
  },
  {
   "cell_type": "markdown",
   "metadata": {},
   "source": [
    "# Récupération et mise en forme des données"
   ]
  },
  {
   "cell_type": "code",
   "execution_count": null,
   "metadata": {},
   "outputs": [],
   "source": [
    "X = np.load('X.npy')\n",
    "Y = np.load('Y.npy')"
   ]
  },
  {
   "cell_type": "code",
   "execution_count": null,
   "metadata": {},
   "outputs": [],
   "source": [
    "X.shape"
   ]
  },
  {
   "cell_type": "code",
   "execution_count": null,
   "metadata": {},
   "outputs": [],
   "source": [
    "X_flat = np.array(X).reshape((2062, 64*64))\n",
    "X_flat.shape"
   ]
  },
  {
   "cell_type": "code",
   "execution_count": null,
   "metadata": {},
   "outputs": [],
   "source": [
    "Ydf = DataFrame(data=Y, columns=[9-x for x in range(10)])\n",
    "Ydf.head()"
   ]
  },
  {
   "cell_type": "code",
   "execution_count": null,
   "metadata": {},
   "outputs": [],
   "source": [
    "Ydf = Ydf[[x for x in range(10)]]\n",
    "Ydf.head()"
   ]
  },
  {
   "cell_type": "code",
   "execution_count": null,
   "metadata": {},
   "outputs": [],
   "source": [
    "Ydf['class']=(Ydf[range(10)].idxmax(axis=1)).astype('int')\n",
    "Ydf[['class']]"
   ]
  },
  {
   "cell_type": "code",
   "execution_count": null,
   "metadata": {},
   "outputs": [],
   "source": [
    "Y_flat = Ydf['class'].to_numpy()\n",
    "Y_flat.shape"
   ]
  },
  {
   "cell_type": "code",
   "execution_count": null,
   "metadata": {},
   "outputs": [],
   "source": [
    "Y_flat = Y_flat.reshape(-1,1)\n",
    "Y_flat.shape"
   ]
  },
  {
   "cell_type": "code",
   "execution_count": null,
   "metadata": {},
   "outputs": [],
   "source": [
    "from numpy import random as np_random\n",
    "\n",
    "SEED = 42\n",
    "np_random.seed(SEED)"
   ]
  },
  {
   "cell_type": "code",
   "execution_count": null,
   "metadata": {},
   "outputs": [],
   "source": [
    "from sklearn.model_selection import train_test_split\n",
    "\n",
    "X_train_CNN, X_val_CNN, y_train_CNN, y_val_CNN = train_test_split(X, Y_flat, test_size=0.2)\n",
    "X_train_CNN.shape"
   ]
  },
  {
   "cell_type": "code",
   "execution_count": null,
   "metadata": {},
   "outputs": [],
   "source": [
    "X_val_CNN.shape"
   ]
  },
  {
   "cell_type": "code",
   "execution_count": null,
   "metadata": {},
   "outputs": [],
   "source": [
    "y_train_CNN.shape"
   ]
  },
  {
   "cell_type": "code",
   "execution_count": null,
   "metadata": {},
   "outputs": [],
   "source": [
    "X_train_CNN_reshape = X_train_CNN.reshape(1649,64,64,1)\n",
    "X_train_CNN_reshape.shape"
   ]
  },
  {
   "cell_type": "code",
   "execution_count": null,
   "metadata": {},
   "outputs": [],
   "source": [
    "X_val_CNN_reshape = X_val_CNN.reshape(413,64,64,1)\n",
    "X_val_CNN_reshape.shape"
   ]
  },
  {
   "cell_type": "markdown",
   "metadata": {},
   "source": [
    "# Model CNN"
   ]
  },
  {
   "cell_type": "code",
   "execution_count": null,
   "metadata": {},
   "outputs": [],
   "source": [
    "# LEARNING_RATE = 0.001\n",
    "# BATCH_SIZE = X_train_CNN.shape[1]\n",
    "# EPOCHS = 50"
   ]
  },
  {
   "cell_type": "code",
   "execution_count": null,
   "metadata": {},
   "outputs": [],
   "source": [
    "from keras.models import Sequential\n",
    "from keras.layers import Dense, Conv2D, Flatten, MaxPooling2D, Dropout #create model\n",
    "\n",
    "model_CNN = Sequential() #add model layers\n",
    "\n",
    "model_CNN.add(Conv2D(8, kernel_size=3, \n",
    "                     activation='relu', \n",
    "                     input_shape=(64,64,1), \n",
    "                     kernel_initializer='glorot_normal'))\n",
    "model_CNN.add(MaxPooling2D(pool_size=(2, 2)))\n",
    "model_CNN.add(Conv2D(16, kernel_size=3, \n",
    "                     activation='relu', \n",
    "                     kernel_initializer='glorot_normal'))\n",
    "model_CNN.add(MaxPooling2D(pool_size=(2, 2)))\n",
    "model_CNN.add(Conv2D(32, kernel_size=3, \n",
    "                     activation='relu', \n",
    "                     kernel_initializer='glorot_normal'))\n",
    "model_CNN.add(MaxPooling2D(pool_size=(2, 2)))\n",
    "model_CNN.add(Conv2D(64, kernel_size=3, \n",
    "                     activation='relu', \n",
    "                     kernel_initializer='glorot_normal'))\n",
    "model_CNN.add(MaxPooling2D(pool_size=(2, 2)))\n",
    "model_CNN.add(Flatten())\n",
    "model_CNN.add(Dense(32, activation='relu'))\n",
    "model_CNN.add(Dropout(0.2))\n",
    "# model_CNN.add(Dense(16, activation='relu'))\n",
    "# model_CNN.add(Dropout(0.2))\n",
    "model_CNN.add(Dense(10, activation='softmax'))"
   ]
  },
  {
   "cell_type": "code",
   "execution_count": null,
   "metadata": {
    "scrolled": false
   },
   "outputs": [],
   "source": [
    "model_CNN.summary()"
   ]
  },
  {
   "cell_type": "code",
   "execution_count": null,
   "metadata": {},
   "outputs": [],
   "source": [
    "from keras.optimizers import Adam\n",
    "from keras.optimizers import SGD\n",
    "from keras.optimizers import RMSprop\n",
    "\n",
    "model_CNN.compile(loss='sparse_categorical_crossentropy', \n",
    "                  optimizer=Adam(lr=LEARNING_RATE),\n",
    "                  metrics = ['accuracy']) #optimizer=SGD(lr=LEARNING_RATE), optimizer=Adam(lr=LEARNING_RATE)"
   ]
  },
  {
   "cell_type": "code",
   "execution_count": null,
   "metadata": {},
   "outputs": [],
   "source": [
    "history_CNN = model_CNN.fit(X_train_CNN_reshape,\n",
    "                            y_train_CNN,\n",
    "                            validation_data=(X_val_CNN_reshape, y_val_CNN),\n",
    "                            epochs=EPOCHS,\n",
    "                            batch_size=BATCH_SIZE,\n",
    "                            verbose=1)"
   ]
  },
  {
   "cell_type": "code",
   "execution_count": null,
   "metadata": {},
   "outputs": [],
   "source": [
    "pd.DataFrame(history_CNN.history).plot()\n",
    "plt.grid(True)\n",
    "plt.title('Model performance throughout training CNN')\n",
    "plt.ylabel('metrics')\n",
    "plt.xlabel('epoch')\n",
    "plt.legend(['val_loss', 'val_acc', 'train_loss', 'train_acc'], loc='upper right')\n",
    "plt.show()"
   ]
  },
  {
   "cell_type": "markdown",
   "metadata": {},
   "source": [
    "# Evaluate CNN"
   ]
  },
  {
   "cell_type": "code",
   "execution_count": null,
   "metadata": {},
   "outputs": [],
   "source": [
    "CNN_pred_val = model_CNN.predict(X_val_CNN_reshape)\n",
    "CNN_pred_val"
   ]
  },
  {
   "cell_type": "code",
   "execution_count": null,
   "metadata": {},
   "outputs": [],
   "source": [
    "df_CNN_pred_val = DataFrame(CNN_pred_val, columns=[x for x in range(10)])\n",
    "df_CNN_pred_val.head()"
   ]
  },
  {
   "cell_type": "code",
   "execution_count": null,
   "metadata": {},
   "outputs": [],
   "source": [
    "df_CNN_pred_val['class_CNN_pred']=(df_CNN_pred_val[range(10)].idxmax(axis=1)).astype('int')\n",
    "df_CNN_pred_val.head()"
   ]
  },
  {
   "cell_type": "code",
   "execution_count": null,
   "metadata": {},
   "outputs": [],
   "source": [
    "y_CNN_pred_val = df_CNN_pred_val['class_CNN_pred'].to_numpy()\n",
    "y_CNN_pred_val = y_CNN_pred_val.reshape(-1,1)"
   ]
  },
  {
   "cell_type": "code",
   "execution_count": null,
   "metadata": {},
   "outputs": [],
   "source": [
    "y_CNN_pred_val.shape"
   ]
  },
  {
   "cell_type": "code",
   "execution_count": null,
   "metadata": {},
   "outputs": [],
   "source": [
    "y_val_CNN.shape"
   ]
  },
  {
   "cell_type": "code",
   "execution_count": null,
   "metadata": {},
   "outputs": [],
   "source": [
    "from sklearn.metrics import accuracy_score\n",
    "\n",
    "accuracy_score(y_val_CNN, y_CNN_pred_val)"
   ]
  },
  {
   "cell_type": "markdown",
   "metadata": {},
   "source": [
    "## Méthode pour exporter ce CNN dans un autre notebook"
   ]
  },
  {
   "cell_type": "code",
   "execution_count": null,
   "metadata": {},
   "outputs": [],
   "source": [
    "def cnn_model(inputs, output, OPTIMIZER, LEARNING_RATE, EPOCHS, BATCH_SIZE, nb_dense, ACTIVATION, INITIALIZER):\n",
    "    X_train, X_val, y_train, y_val = train_test_split(inputs, output, test_size=0.2)\n",
    "    \n",
    "    model = Sequential() #add model layers\n",
    "\n",
    "    model.add(Conv2D(8, kernel_size=3, \n",
    "                     activation=ACTIVATION, \n",
    "                     input_shape=(inputs.shape[1],inputs.shape[2],inputs.shape[3]), \n",
    "                     kernel_initializer=INITIALIZER))\n",
    "    model.add(MaxPooling2D(pool_size=(2, 2)))\n",
    "    model.add(Conv2D(16, kernel_size=3, \n",
    "                     activation=ACTIVATION, \n",
    "                     kernel_initializer=INITIALIZER))\n",
    "    model.add(MaxPooling2D(pool_size=(2, 2)))\n",
    "    model.add(Conv2D(32, kernel_size=3, \n",
    "                     activation=ACTIVATION, \n",
    "                     kernel_initializer=INITIALIZER))\n",
    "    model.add(MaxPooling2D(pool_size=(2, 2)))\n",
    "    model.add(Conv2D(64, kernel_size=3, \n",
    "                     activation=ACTIVATION, \n",
    "                     kernel_initializer=INITIALIZER))\n",
    "    model.add(MaxPooling2D(pool_size=(2, 2)))\n",
    "    model.add(Flatten())\n",
    "    model.add(Dense(32, activation=ACTIVATION))\n",
    "    model.add(Dropout(0.2))\n",
    "# model.add(Dense(16, activation='relu'))\n",
    "# model.add(Dropout(0.2))\n",
    "    model.add(Dense(nb_dense, activation='softmax'))\n",
    "    \n",
    "    model.compile(loss='sparse_categorical_crossentropy', \n",
    "                    optimizer=OPTIMIZER(lr=LEARNING_RATE), \n",
    "                    metrics = ['accuracy'])\n",
    "    \n",
    "    history = model.fit(X_train,\n",
    "                        y_train,\n",
    "                        validation_data=(X_val, y_val),\n",
    "                        epochs=EPOCHS,\n",
    "                        batch_size=BATCH_SIZE,\n",
    "                        verbose=2)\n",
    "    \n",
    "    pd.DataFrame(history.history).plot()\n",
    "    plt.grid(True)\n",
    "    plt.title('Model performance throughout training CNN')\n",
    "    plt.ylabel('metrics')\n",
    "    plt.xlabel('epoch')\n",
    "    plt.legend(['val_loss', 'val_acc', 'train_loss', 'train_acc'], loc='upper right')\n",
    "    plt.show()\n",
    "    return model"
   ]
  },
  {
   "cell_type": "code",
   "execution_count": null,
   "metadata": {},
   "outputs": [],
   "source": []
  }
 ],
 "metadata": {
  "kernelspec": {
   "display_name": "Python 3",
   "language": "python",
   "name": "python3"
  },
  "language_info": {
   "codemirror_mode": {
    "name": "ipython",
    "version": 3
   },
   "file_extension": ".py",
   "mimetype": "text/x-python",
   "name": "python",
   "nbconvert_exporter": "python",
   "pygments_lexer": "ipython3",
   "version": "3.7.4"
  }
 },
 "nbformat": 4,
 "nbformat_minor": 2
}
