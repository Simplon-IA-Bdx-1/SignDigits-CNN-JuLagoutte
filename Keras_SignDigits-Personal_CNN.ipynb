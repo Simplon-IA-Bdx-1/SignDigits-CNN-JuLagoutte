{
 "cells": [
  {
   "cell_type": "code",
   "execution_count": 23,
   "metadata": {},
   "outputs": [],
   "source": [
    "import numpy as np\n",
    "from pandas import DataFrame\n",
    "import keras\n",
    "import pandas as pd"
   ]
  },
  {
   "cell_type": "code",
   "execution_count": 2,
   "metadata": {},
   "outputs": [],
   "source": [
    "import matplotlib.pyplot as plt\n",
    "%matplotlib notebook"
   ]
  },
  {
   "cell_type": "markdown",
   "metadata": {},
   "source": [
    "# Récupération et mise en forme des données"
   ]
  },
  {
   "cell_type": "code",
   "execution_count": 3,
   "metadata": {},
   "outputs": [],
   "source": [
    "X = np.load('X.npy')\n",
    "Y = np.load('Y.npy')"
   ]
  },
  {
   "cell_type": "code",
   "execution_count": 4,
   "metadata": {},
   "outputs": [
    {
     "data": {
      "text/plain": [
       "(2062, 64, 64)"
      ]
     },
     "execution_count": 4,
     "metadata": {},
     "output_type": "execute_result"
    }
   ],
   "source": [
    "X.shape"
   ]
  },
  {
   "cell_type": "code",
   "execution_count": 5,
   "metadata": {},
   "outputs": [
    {
     "data": {
      "text/plain": [
       "(2062, 4096)"
      ]
     },
     "execution_count": 5,
     "metadata": {},
     "output_type": "execute_result"
    }
   ],
   "source": [
    "X_flat = np.array(X).reshape((2062, 64*64))\n",
    "X_flat.shape"
   ]
  },
  {
   "cell_type": "code",
   "execution_count": 6,
   "metadata": {},
   "outputs": [
    {
     "data": {
      "text/html": [
       "<div>\n",
       "<style scoped>\n",
       "    .dataframe tbody tr th:only-of-type {\n",
       "        vertical-align: middle;\n",
       "    }\n",
       "\n",
       "    .dataframe tbody tr th {\n",
       "        vertical-align: top;\n",
       "    }\n",
       "\n",
       "    .dataframe thead th {\n",
       "        text-align: right;\n",
       "    }\n",
       "</style>\n",
       "<table border=\"1\" class=\"dataframe\">\n",
       "  <thead>\n",
       "    <tr style=\"text-align: right;\">\n",
       "      <th></th>\n",
       "      <th>9</th>\n",
       "      <th>8</th>\n",
       "      <th>7</th>\n",
       "      <th>6</th>\n",
       "      <th>5</th>\n",
       "      <th>4</th>\n",
       "      <th>3</th>\n",
       "      <th>2</th>\n",
       "      <th>1</th>\n",
       "      <th>0</th>\n",
       "    </tr>\n",
       "  </thead>\n",
       "  <tbody>\n",
       "    <tr>\n",
       "      <td>0</td>\n",
       "      <td>1.0</td>\n",
       "      <td>0.0</td>\n",
       "      <td>0.0</td>\n",
       "      <td>0.0</td>\n",
       "      <td>0.0</td>\n",
       "      <td>0.0</td>\n",
       "      <td>0.0</td>\n",
       "      <td>0.0</td>\n",
       "      <td>0.0</td>\n",
       "      <td>0.0</td>\n",
       "    </tr>\n",
       "    <tr>\n",
       "      <td>1</td>\n",
       "      <td>1.0</td>\n",
       "      <td>0.0</td>\n",
       "      <td>0.0</td>\n",
       "      <td>0.0</td>\n",
       "      <td>0.0</td>\n",
       "      <td>0.0</td>\n",
       "      <td>0.0</td>\n",
       "      <td>0.0</td>\n",
       "      <td>0.0</td>\n",
       "      <td>0.0</td>\n",
       "    </tr>\n",
       "    <tr>\n",
       "      <td>2</td>\n",
       "      <td>1.0</td>\n",
       "      <td>0.0</td>\n",
       "      <td>0.0</td>\n",
       "      <td>0.0</td>\n",
       "      <td>0.0</td>\n",
       "      <td>0.0</td>\n",
       "      <td>0.0</td>\n",
       "      <td>0.0</td>\n",
       "      <td>0.0</td>\n",
       "      <td>0.0</td>\n",
       "    </tr>\n",
       "    <tr>\n",
       "      <td>3</td>\n",
       "      <td>1.0</td>\n",
       "      <td>0.0</td>\n",
       "      <td>0.0</td>\n",
       "      <td>0.0</td>\n",
       "      <td>0.0</td>\n",
       "      <td>0.0</td>\n",
       "      <td>0.0</td>\n",
       "      <td>0.0</td>\n",
       "      <td>0.0</td>\n",
       "      <td>0.0</td>\n",
       "    </tr>\n",
       "    <tr>\n",
       "      <td>4</td>\n",
       "      <td>1.0</td>\n",
       "      <td>0.0</td>\n",
       "      <td>0.0</td>\n",
       "      <td>0.0</td>\n",
       "      <td>0.0</td>\n",
       "      <td>0.0</td>\n",
       "      <td>0.0</td>\n",
       "      <td>0.0</td>\n",
       "      <td>0.0</td>\n",
       "      <td>0.0</td>\n",
       "    </tr>\n",
       "  </tbody>\n",
       "</table>\n",
       "</div>"
      ],
      "text/plain": [
       "     9    8    7    6    5    4    3    2    1    0\n",
       "0  1.0  0.0  0.0  0.0  0.0  0.0  0.0  0.0  0.0  0.0\n",
       "1  1.0  0.0  0.0  0.0  0.0  0.0  0.0  0.0  0.0  0.0\n",
       "2  1.0  0.0  0.0  0.0  0.0  0.0  0.0  0.0  0.0  0.0\n",
       "3  1.0  0.0  0.0  0.0  0.0  0.0  0.0  0.0  0.0  0.0\n",
       "4  1.0  0.0  0.0  0.0  0.0  0.0  0.0  0.0  0.0  0.0"
      ]
     },
     "execution_count": 6,
     "metadata": {},
     "output_type": "execute_result"
    }
   ],
   "source": [
    "Ydf = DataFrame(data=Y, columns=[9-x for x in range(10)])\n",
    "Ydf.head()"
   ]
  },
  {
   "cell_type": "code",
   "execution_count": 7,
   "metadata": {},
   "outputs": [
    {
     "data": {
      "text/html": [
       "<div>\n",
       "<style scoped>\n",
       "    .dataframe tbody tr th:only-of-type {\n",
       "        vertical-align: middle;\n",
       "    }\n",
       "\n",
       "    .dataframe tbody tr th {\n",
       "        vertical-align: top;\n",
       "    }\n",
       "\n",
       "    .dataframe thead th {\n",
       "        text-align: right;\n",
       "    }\n",
       "</style>\n",
       "<table border=\"1\" class=\"dataframe\">\n",
       "  <thead>\n",
       "    <tr style=\"text-align: right;\">\n",
       "      <th></th>\n",
       "      <th>0</th>\n",
       "      <th>1</th>\n",
       "      <th>2</th>\n",
       "      <th>3</th>\n",
       "      <th>4</th>\n",
       "      <th>5</th>\n",
       "      <th>6</th>\n",
       "      <th>7</th>\n",
       "      <th>8</th>\n",
       "      <th>9</th>\n",
       "    </tr>\n",
       "  </thead>\n",
       "  <tbody>\n",
       "    <tr>\n",
       "      <td>0</td>\n",
       "      <td>0.0</td>\n",
       "      <td>0.0</td>\n",
       "      <td>0.0</td>\n",
       "      <td>0.0</td>\n",
       "      <td>0.0</td>\n",
       "      <td>0.0</td>\n",
       "      <td>0.0</td>\n",
       "      <td>0.0</td>\n",
       "      <td>0.0</td>\n",
       "      <td>1.0</td>\n",
       "    </tr>\n",
       "    <tr>\n",
       "      <td>1</td>\n",
       "      <td>0.0</td>\n",
       "      <td>0.0</td>\n",
       "      <td>0.0</td>\n",
       "      <td>0.0</td>\n",
       "      <td>0.0</td>\n",
       "      <td>0.0</td>\n",
       "      <td>0.0</td>\n",
       "      <td>0.0</td>\n",
       "      <td>0.0</td>\n",
       "      <td>1.0</td>\n",
       "    </tr>\n",
       "    <tr>\n",
       "      <td>2</td>\n",
       "      <td>0.0</td>\n",
       "      <td>0.0</td>\n",
       "      <td>0.0</td>\n",
       "      <td>0.0</td>\n",
       "      <td>0.0</td>\n",
       "      <td>0.0</td>\n",
       "      <td>0.0</td>\n",
       "      <td>0.0</td>\n",
       "      <td>0.0</td>\n",
       "      <td>1.0</td>\n",
       "    </tr>\n",
       "    <tr>\n",
       "      <td>3</td>\n",
       "      <td>0.0</td>\n",
       "      <td>0.0</td>\n",
       "      <td>0.0</td>\n",
       "      <td>0.0</td>\n",
       "      <td>0.0</td>\n",
       "      <td>0.0</td>\n",
       "      <td>0.0</td>\n",
       "      <td>0.0</td>\n",
       "      <td>0.0</td>\n",
       "      <td>1.0</td>\n",
       "    </tr>\n",
       "    <tr>\n",
       "      <td>4</td>\n",
       "      <td>0.0</td>\n",
       "      <td>0.0</td>\n",
       "      <td>0.0</td>\n",
       "      <td>0.0</td>\n",
       "      <td>0.0</td>\n",
       "      <td>0.0</td>\n",
       "      <td>0.0</td>\n",
       "      <td>0.0</td>\n",
       "      <td>0.0</td>\n",
       "      <td>1.0</td>\n",
       "    </tr>\n",
       "  </tbody>\n",
       "</table>\n",
       "</div>"
      ],
      "text/plain": [
       "     0    1    2    3    4    5    6    7    8    9\n",
       "0  0.0  0.0  0.0  0.0  0.0  0.0  0.0  0.0  0.0  1.0\n",
       "1  0.0  0.0  0.0  0.0  0.0  0.0  0.0  0.0  0.0  1.0\n",
       "2  0.0  0.0  0.0  0.0  0.0  0.0  0.0  0.0  0.0  1.0\n",
       "3  0.0  0.0  0.0  0.0  0.0  0.0  0.0  0.0  0.0  1.0\n",
       "4  0.0  0.0  0.0  0.0  0.0  0.0  0.0  0.0  0.0  1.0"
      ]
     },
     "execution_count": 7,
     "metadata": {},
     "output_type": "execute_result"
    }
   ],
   "source": [
    "Ydf = Ydf[[x for x in range(10)]]\n",
    "Ydf.head()"
   ]
  },
  {
   "cell_type": "code",
   "execution_count": 8,
   "metadata": {},
   "outputs": [
    {
     "data": {
      "text/html": [
       "<div>\n",
       "<style scoped>\n",
       "    .dataframe tbody tr th:only-of-type {\n",
       "        vertical-align: middle;\n",
       "    }\n",
       "\n",
       "    .dataframe tbody tr th {\n",
       "        vertical-align: top;\n",
       "    }\n",
       "\n",
       "    .dataframe thead th {\n",
       "        text-align: right;\n",
       "    }\n",
       "</style>\n",
       "<table border=\"1\" class=\"dataframe\">\n",
       "  <thead>\n",
       "    <tr style=\"text-align: right;\">\n",
       "      <th></th>\n",
       "      <th>class</th>\n",
       "    </tr>\n",
       "  </thead>\n",
       "  <tbody>\n",
       "    <tr>\n",
       "      <td>0</td>\n",
       "      <td>9</td>\n",
       "    </tr>\n",
       "    <tr>\n",
       "      <td>1</td>\n",
       "      <td>9</td>\n",
       "    </tr>\n",
       "    <tr>\n",
       "      <td>2</td>\n",
       "      <td>9</td>\n",
       "    </tr>\n",
       "    <tr>\n",
       "      <td>3</td>\n",
       "      <td>9</td>\n",
       "    </tr>\n",
       "    <tr>\n",
       "      <td>4</td>\n",
       "      <td>9</td>\n",
       "    </tr>\n",
       "    <tr>\n",
       "      <td>...</td>\n",
       "      <td>...</td>\n",
       "    </tr>\n",
       "    <tr>\n",
       "      <td>2057</td>\n",
       "      <td>0</td>\n",
       "    </tr>\n",
       "    <tr>\n",
       "      <td>2058</td>\n",
       "      <td>0</td>\n",
       "    </tr>\n",
       "    <tr>\n",
       "      <td>2059</td>\n",
       "      <td>0</td>\n",
       "    </tr>\n",
       "    <tr>\n",
       "      <td>2060</td>\n",
       "      <td>0</td>\n",
       "    </tr>\n",
       "    <tr>\n",
       "      <td>2061</td>\n",
       "      <td>0</td>\n",
       "    </tr>\n",
       "  </tbody>\n",
       "</table>\n",
       "<p>2062 rows × 1 columns</p>\n",
       "</div>"
      ],
      "text/plain": [
       "      class\n",
       "0         9\n",
       "1         9\n",
       "2         9\n",
       "3         9\n",
       "4         9\n",
       "...     ...\n",
       "2057      0\n",
       "2058      0\n",
       "2059      0\n",
       "2060      0\n",
       "2061      0\n",
       "\n",
       "[2062 rows x 1 columns]"
      ]
     },
     "execution_count": 8,
     "metadata": {},
     "output_type": "execute_result"
    }
   ],
   "source": [
    "Ydf['class']=(Ydf[range(10)].idxmax(axis=1)).astype('int')\n",
    "Ydf[['class']]"
   ]
  },
  {
   "cell_type": "code",
   "execution_count": 9,
   "metadata": {},
   "outputs": [
    {
     "data": {
      "text/plain": [
       "(2062,)"
      ]
     },
     "execution_count": 9,
     "metadata": {},
     "output_type": "execute_result"
    }
   ],
   "source": [
    "Y_flat = Ydf['class'].to_numpy()\n",
    "Y_flat.shape"
   ]
  },
  {
   "cell_type": "code",
   "execution_count": 10,
   "metadata": {},
   "outputs": [
    {
     "data": {
      "text/plain": [
       "(2062, 1)"
      ]
     },
     "execution_count": 10,
     "metadata": {},
     "output_type": "execute_result"
    }
   ],
   "source": [
    "Y_flat = Y_flat.reshape(-1,1)\n",
    "Y_flat.shape"
   ]
  },
  {
   "cell_type": "code",
   "execution_count": 11,
   "metadata": {},
   "outputs": [],
   "source": [
    "from numpy import random as np_random\n",
    "\n",
    "SEED = 42\n",
    "np_random.seed(SEED)"
   ]
  },
  {
   "cell_type": "code",
   "execution_count": 12,
   "metadata": {},
   "outputs": [
    {
     "data": {
      "text/plain": [
       "(1649, 64, 64)"
      ]
     },
     "execution_count": 12,
     "metadata": {},
     "output_type": "execute_result"
    }
   ],
   "source": [
    "from sklearn.model_selection import train_test_split\n",
    "\n",
    "X_train_CNN, X_val_CNN, y_train_CNN, y_val_CNN = train_test_split(X, Y_flat, test_size=0.2)\n",
    "X_train_CNN.shape"
   ]
  },
  {
   "cell_type": "code",
   "execution_count": 13,
   "metadata": {},
   "outputs": [
    {
     "data": {
      "text/plain": [
       "(413, 64, 64)"
      ]
     },
     "execution_count": 13,
     "metadata": {},
     "output_type": "execute_result"
    }
   ],
   "source": [
    "X_val_CNN.shape"
   ]
  },
  {
   "cell_type": "code",
   "execution_count": 14,
   "metadata": {},
   "outputs": [
    {
     "data": {
      "text/plain": [
       "(1649, 1)"
      ]
     },
     "execution_count": 14,
     "metadata": {},
     "output_type": "execute_result"
    }
   ],
   "source": [
    "y_train_CNN.shape"
   ]
  },
  {
   "cell_type": "code",
   "execution_count": 15,
   "metadata": {},
   "outputs": [
    {
     "data": {
      "text/plain": [
       "(1649, 64, 64, 1)"
      ]
     },
     "execution_count": 15,
     "metadata": {},
     "output_type": "execute_result"
    }
   ],
   "source": [
    "X_train_CNN_reshape = X_train_CNN.reshape(1649,64,64,1)\n",
    "X_train_CNN_reshape.shape"
   ]
  },
  {
   "cell_type": "code",
   "execution_count": 16,
   "metadata": {},
   "outputs": [
    {
     "data": {
      "text/plain": [
       "(413, 64, 64, 1)"
      ]
     },
     "execution_count": 16,
     "metadata": {},
     "output_type": "execute_result"
    }
   ],
   "source": [
    "X_val_CNN_reshape = X_val_CNN.reshape(413,64,64,1)\n",
    "X_val_CNN_reshape.shape"
   ]
  },
  {
   "cell_type": "markdown",
   "metadata": {},
   "source": [
    "# Model CNN"
   ]
  },
  {
   "cell_type": "code",
   "execution_count": 17,
   "metadata": {},
   "outputs": [],
   "source": [
    "LEARNING_RATE = 0.001\n",
    "BATCH_SIZE = X_train_CNN.shape[1]\n",
    "EPOCHS = 50"
   ]
  },
  {
   "cell_type": "code",
   "execution_count": 18,
   "metadata": {},
   "outputs": [
    {
     "name": "stdout",
     "output_type": "stream",
     "text": [
      "WARNING:tensorflow:From C:\\Users\\Utilisateur\\Anaconda3\\lib\\site-packages\\keras\\backend\\tensorflow_backend.py:74: The name tf.get_default_graph is deprecated. Please use tf.compat.v1.get_default_graph instead.\n",
      "\n",
      "WARNING:tensorflow:From C:\\Users\\Utilisateur\\Anaconda3\\lib\\site-packages\\keras\\backend\\tensorflow_backend.py:517: The name tf.placeholder is deprecated. Please use tf.compat.v1.placeholder instead.\n",
      "\n",
      "WARNING:tensorflow:From C:\\Users\\Utilisateur\\Anaconda3\\lib\\site-packages\\keras\\backend\\tensorflow_backend.py:4185: The name tf.truncated_normal is deprecated. Please use tf.random.truncated_normal instead.\n",
      "\n",
      "WARNING:tensorflow:From C:\\Users\\Utilisateur\\Anaconda3\\lib\\site-packages\\keras\\backend\\tensorflow_backend.py:3976: The name tf.nn.max_pool is deprecated. Please use tf.nn.max_pool2d instead.\n",
      "\n",
      "WARNING:tensorflow:From C:\\Users\\Utilisateur\\Anaconda3\\lib\\site-packages\\keras\\backend\\tensorflow_backend.py:4138: The name tf.random_uniform is deprecated. Please use tf.random.uniform instead.\n",
      "\n",
      "WARNING:tensorflow:From C:\\Users\\Utilisateur\\Anaconda3\\lib\\site-packages\\keras\\backend\\tensorflow_backend.py:133: The name tf.placeholder_with_default is deprecated. Please use tf.compat.v1.placeholder_with_default instead.\n",
      "\n",
      "WARNING:tensorflow:From C:\\Users\\Utilisateur\\Anaconda3\\lib\\site-packages\\keras\\backend\\tensorflow_backend.py:3445: calling dropout (from tensorflow.python.ops.nn_ops) with keep_prob is deprecated and will be removed in a future version.\n",
      "Instructions for updating:\n",
      "Please use `rate` instead of `keep_prob`. Rate should be set to `rate = 1 - keep_prob`.\n"
     ]
    }
   ],
   "source": [
    "from keras.models import Sequential\n",
    "from keras.layers import Dense, Conv2D, Flatten, MaxPooling2D, Dropout #create model\n",
    "\n",
    "model_CNN = Sequential() #add model layers\n",
    "\n",
    "model_CNN.add(Conv2D(4, kernel_size=3, \n",
    "                     activation='relu', \n",
    "                     input_shape=(64,64,1), \n",
    "                     kernel_initializer='glorot_normal'))\n",
    "model_CNN.add(MaxPooling2D(pool_size=(2, 2)))\n",
    "model_CNN.add(Conv2D(8, kernel_size=3, \n",
    "                     activation='relu', \n",
    "                     kernel_initializer='glorot_normal'))\n",
    "model_CNN.add(MaxPooling2D(pool_size=(2, 2)))\n",
    "model_CNN.add(Conv2D(16, kernel_size=3, \n",
    "                     activation='relu', \n",
    "                     kernel_initializer='glorot_normal'))\n",
    "model_CNN.add(MaxPooling2D(pool_size=(2, 2)))\n",
    "model_CNN.add(Conv2D(32, kernel_size=3, \n",
    "                     activation='relu', \n",
    "                     kernel_initializer='glorot_normal'))\n",
    "model_CNN.add(MaxPooling2D(pool_size=(2, 2)))\n",
    "model_CNN.add(Flatten())\n",
    "# model_CNN.add(Dense(32, activation='relu'))\n",
    "# model_CNN.add(Dropout(0.2))\n",
    "model_CNN.add(Dense(16, activation='relu'))\n",
    "model_CNN.add(Dropout(0.2))\n",
    "model_CNN.add(Dense(10, activation='softmax'))"
   ]
  },
  {
   "cell_type": "code",
   "execution_count": 19,
   "metadata": {
    "scrolled": false
   },
   "outputs": [
    {
     "name": "stdout",
     "output_type": "stream",
     "text": [
      "_________________________________________________________________\n",
      "Layer (type)                 Output Shape              Param #   \n",
      "=================================================================\n",
      "conv2d_1 (Conv2D)            (None, 62, 62, 4)         40        \n",
      "_________________________________________________________________\n",
      "max_pooling2d_1 (MaxPooling2 (None, 31, 31, 4)         0         \n",
      "_________________________________________________________________\n",
      "conv2d_2 (Conv2D)            (None, 29, 29, 8)         296       \n",
      "_________________________________________________________________\n",
      "max_pooling2d_2 (MaxPooling2 (None, 14, 14, 8)         0         \n",
      "_________________________________________________________________\n",
      "conv2d_3 (Conv2D)            (None, 12, 12, 16)        1168      \n",
      "_________________________________________________________________\n",
      "max_pooling2d_3 (MaxPooling2 (None, 6, 6, 16)          0         \n",
      "_________________________________________________________________\n",
      "conv2d_4 (Conv2D)            (None, 4, 4, 32)          4640      \n",
      "_________________________________________________________________\n",
      "max_pooling2d_4 (MaxPooling2 (None, 2, 2, 32)          0         \n",
      "_________________________________________________________________\n",
      "flatten_1 (Flatten)          (None, 128)               0         \n",
      "_________________________________________________________________\n",
      "dense_1 (Dense)              (None, 16)                2064      \n",
      "_________________________________________________________________\n",
      "dropout_1 (Dropout)          (None, 16)                0         \n",
      "_________________________________________________________________\n",
      "dense_2 (Dense)              (None, 10)                170       \n",
      "=================================================================\n",
      "Total params: 8,378\n",
      "Trainable params: 8,378\n",
      "Non-trainable params: 0\n",
      "_________________________________________________________________\n"
     ]
    }
   ],
   "source": [
    "model_CNN.summary()"
   ]
  },
  {
   "cell_type": "code",
   "execution_count": 20,
   "metadata": {},
   "outputs": [
    {
     "name": "stdout",
     "output_type": "stream",
     "text": [
      "WARNING:tensorflow:From C:\\Users\\Utilisateur\\Anaconda3\\lib\\site-packages\\keras\\optimizers.py:790: The name tf.train.Optimizer is deprecated. Please use tf.compat.v1.train.Optimizer instead.\n",
      "\n",
      "WARNING:tensorflow:From C:\\Users\\Utilisateur\\Anaconda3\\lib\\site-packages\\keras\\backend\\tensorflow_backend.py:3341: The name tf.log is deprecated. Please use tf.math.log instead.\n",
      "\n"
     ]
    }
   ],
   "source": [
    "from keras.optimizers import Adam\n",
    "from keras.optimizers import SGD\n",
    "from keras.optimizers import RMSprop\n",
    "\n",
    "model_CNN.compile(loss='sparse_categorical_crossentropy', \n",
    "                  optimizer=Adam(lr=LEARNING_RATE),\n",
    "                  metrics = ['accuracy']) #optimizer=SGD(lr=LEARNING_RATE), optimizer=Adam(lr=LEARNING_RATE)"
   ]
  },
  {
   "cell_type": "code",
   "execution_count": 21,
   "metadata": {},
   "outputs": [
    {
     "name": "stdout",
     "output_type": "stream",
     "text": [
      "WARNING:tensorflow:From C:\\Users\\Utilisateur\\Anaconda3\\lib\\site-packages\\tensorflow_core\\python\\ops\\math_grad.py:1424: where (from tensorflow.python.ops.array_ops) is deprecated and will be removed in a future version.\n",
      "Instructions for updating:\n",
      "Use tf.where in 2.0, which has the same broadcast rule as np.where\n",
      "WARNING:tensorflow:From C:\\Users\\Utilisateur\\Anaconda3\\lib\\site-packages\\keras\\backend\\tensorflow_backend.py:986: The name tf.assign_add is deprecated. Please use tf.compat.v1.assign_add instead.\n",
      "\n",
      "WARNING:tensorflow:From C:\\Users\\Utilisateur\\Anaconda3\\lib\\site-packages\\keras\\backend\\tensorflow_backend.py:973: The name tf.assign is deprecated. Please use tf.compat.v1.assign instead.\n",
      "\n",
      "WARNING:tensorflow:From C:\\Users\\Utilisateur\\Anaconda3\\lib\\site-packages\\keras\\backend\\tensorflow_backend.py:2741: The name tf.Session is deprecated. Please use tf.compat.v1.Session instead.\n",
      "\n",
      "Train on 1649 samples, validate on 413 samples\n",
      "Epoch 1/50\n",
      "WARNING:tensorflow:From C:\\Users\\Utilisateur\\Anaconda3\\lib\\site-packages\\keras\\backend\\tensorflow_backend.py:174: The name tf.get_default_session is deprecated. Please use tf.compat.v1.get_default_session instead.\n",
      "\n",
      "WARNING:tensorflow:From C:\\Users\\Utilisateur\\Anaconda3\\lib\\site-packages\\keras\\backend\\tensorflow_backend.py:181: The name tf.ConfigProto is deprecated. Please use tf.compat.v1.ConfigProto instead.\n",
      "\n",
      "WARNING:tensorflow:From C:\\Users\\Utilisateur\\Anaconda3\\lib\\site-packages\\keras\\backend\\tensorflow_backend.py:190: The name tf.global_variables is deprecated. Please use tf.compat.v1.global_variables instead.\n",
      "\n",
      "WARNING:tensorflow:From C:\\Users\\Utilisateur\\Anaconda3\\lib\\site-packages\\keras\\backend\\tensorflow_backend.py:199: The name tf.is_variable_initialized is deprecated. Please use tf.compat.v1.is_variable_initialized instead.\n",
      "\n",
      "WARNING:tensorflow:From C:\\Users\\Utilisateur\\Anaconda3\\lib\\site-packages\\keras\\backend\\tensorflow_backend.py:206: The name tf.variables_initializer is deprecated. Please use tf.compat.v1.variables_initializer instead.\n",
      "\n",
      "1649/1649 [==============================] - 3s 2ms/step - loss: 2.3013 - acc: 0.1098 - val_loss: 2.3032 - val_acc: 0.1041\n",
      "Epoch 2/50\n",
      "1649/1649 [==============================] - 2s 1ms/step - loss: 2.2993 - acc: 0.0982 - val_loss: 2.3006 - val_acc: 0.0896\n",
      "Epoch 3/50\n",
      "1649/1649 [==============================] - 2s 1ms/step - loss: 2.2889 - acc: 0.1013 - val_loss: 2.2848 - val_acc: 0.0847\n",
      "Epoch 4/50\n",
      "1649/1649 [==============================] - 2s 1ms/step - loss: 2.2551 - acc: 0.1346 - val_loss: 2.2303 - val_acc: 0.1283\n",
      "Epoch 5/50\n",
      "1649/1649 [==============================] - 2s 1ms/step - loss: 2.1461 - acc: 0.2080 - val_loss: 2.0255 - val_acc: 0.2736\n",
      "Epoch 6/50\n",
      "1649/1649 [==============================] - 2s 1ms/step - loss: 1.9171 - acc: 0.3135 - val_loss: 1.6872 - val_acc: 0.4479\n",
      "Epoch 7/50\n",
      "1649/1649 [==============================] - 2s 1ms/step - loss: 1.6134 - acc: 0.4360 - val_loss: 1.3519 - val_acc: 0.5642\n",
      "Epoch 8/50\n",
      "1649/1649 [==============================] - 2s 1ms/step - loss: 1.4301 - acc: 0.4912 - val_loss: 1.1755 - val_acc: 0.6804\n",
      "Epoch 9/50\n",
      "1649/1649 [==============================] - 2s 1ms/step - loss: 1.3067 - acc: 0.5288 - val_loss: 1.0547 - val_acc: 0.6659\n",
      "Epoch 10/50\n",
      "1649/1649 [==============================] - 2s 1ms/step - loss: 1.1961 - acc: 0.5585 - val_loss: 0.9378 - val_acc: 0.7046\n",
      "Epoch 11/50\n",
      "1649/1649 [==============================] - 2s 1ms/step - loss: 1.1090 - acc: 0.5931 - val_loss: 0.8045 - val_acc: 0.7554\n",
      "Epoch 12/50\n",
      "1649/1649 [==============================] - 2s 1ms/step - loss: 1.0560 - acc: 0.6204 - val_loss: 0.6756 - val_acc: 0.8426\n",
      "Epoch 13/50\n",
      "1649/1649 [==============================] - 2s 1ms/step - loss: 0.9923 - acc: 0.6471 - val_loss: 0.6190 - val_acc: 0.8426\n",
      "Epoch 14/50\n",
      "1649/1649 [==============================] - 2s 1ms/step - loss: 0.9511 - acc: 0.6580 - val_loss: 0.6115 - val_acc: 0.8063\n",
      "Epoch 15/50\n",
      "1649/1649 [==============================] - 2s 1ms/step - loss: 0.9052 - acc: 0.6792 - val_loss: 0.5382 - val_acc: 0.8789\n",
      "Epoch 16/50\n",
      "1649/1649 [==============================] - 2s 1ms/step - loss: 0.8295 - acc: 0.6895 - val_loss: 0.4912 - val_acc: 0.8765\n",
      "Epoch 17/50\n",
      "1649/1649 [==============================] - 2s 1ms/step - loss: 0.8119 - acc: 0.7035 - val_loss: 0.4981 - val_acc: 0.8644\n",
      "Epoch 18/50\n",
      "1649/1649 [==============================] - 2s 1ms/step - loss: 0.7949 - acc: 0.7029 - val_loss: 0.4476 - val_acc: 0.8959\n",
      "Epoch 19/50\n",
      "1649/1649 [==============================] - 2s 1ms/step - loss: 0.8056 - acc: 0.7047 - val_loss: 0.4482 - val_acc: 0.8886\n",
      "Epoch 20/50\n",
      "1649/1649 [==============================] - 2s 1ms/step - loss: 0.7070 - acc: 0.7495 - val_loss: 0.4055 - val_acc: 0.9031\n",
      "Epoch 21/50\n",
      "1649/1649 [==============================] - 2s 1ms/step - loss: 0.6988 - acc: 0.7435 - val_loss: 0.3950 - val_acc: 0.9153\n",
      "Epoch 22/50\n",
      "1649/1649 [==============================] - 2s 1ms/step - loss: 0.6750 - acc: 0.7423 - val_loss: 0.3811 - val_acc: 0.8983\n",
      "Epoch 23/50\n",
      "1649/1649 [==============================] - 2s 1ms/step - loss: 0.6568 - acc: 0.7574 - val_loss: 0.3337 - val_acc: 0.9177\n",
      "Epoch 24/50\n",
      "1649/1649 [==============================] - 2s 1ms/step - loss: 0.6185 - acc: 0.7677 - val_loss: 0.3265 - val_acc: 0.9104\n",
      "Epoch 25/50\n",
      "1649/1649 [==============================] - 2s 1ms/step - loss: 0.5823 - acc: 0.7920 - val_loss: 0.2981 - val_acc: 0.9128\n",
      "Epoch 26/50\n",
      "1649/1649 [==============================] - 2s 1ms/step - loss: 0.6202 - acc: 0.7665 - val_loss: 0.3207 - val_acc: 0.9201\n",
      "Epoch 27/50\n",
      "1649/1649 [==============================] - 2s 1ms/step - loss: 0.5889 - acc: 0.7847 - val_loss: 0.3151 - val_acc: 0.9080\n",
      "Epoch 28/50\n",
      "1649/1649 [==============================] - 2s 1ms/step - loss: 0.5691 - acc: 0.7690 - val_loss: 0.2812 - val_acc: 0.9249\n",
      "Epoch 29/50\n",
      "1649/1649 [==============================] - 2s 1ms/step - loss: 0.5507 - acc: 0.7878 - val_loss: 0.2704 - val_acc: 0.9274\n",
      "Epoch 30/50\n",
      "1649/1649 [==============================] - 2s 1ms/step - loss: 0.5153 - acc: 0.8029 - val_loss: 0.2773 - val_acc: 0.9201\n",
      "Epoch 31/50\n",
      "1649/1649 [==============================] - 2s 1ms/step - loss: 0.5571 - acc: 0.7823 - val_loss: 0.2744 - val_acc: 0.9225\n",
      "Epoch 32/50\n",
      "1649/1649 [==============================] - 2s 1ms/step - loss: 0.5157 - acc: 0.8005 - val_loss: 0.2446 - val_acc: 0.9443\n",
      "Epoch 33/50\n",
      "1649/1649 [==============================] - 2s 1ms/step - loss: 0.5126 - acc: 0.8072 - val_loss: 0.2653 - val_acc: 0.9298\n",
      "Epoch 34/50\n",
      "1649/1649 [==============================] - 2s 1ms/step - loss: 0.5005 - acc: 0.8011 - val_loss: 0.2421 - val_acc: 0.9322\n",
      "Epoch 35/50\n",
      "1649/1649 [==============================] - 2s 1ms/step - loss: 0.4950 - acc: 0.8126 - val_loss: 0.2206 - val_acc: 0.9322\n",
      "Epoch 36/50\n",
      "1649/1649 [==============================] - 2s 1ms/step - loss: 0.4729 - acc: 0.8169 - val_loss: 0.2097 - val_acc: 0.9395\n",
      "Epoch 37/50\n",
      "1649/1649 [==============================] - 2s 1ms/step - loss: 0.4452 - acc: 0.8278 - val_loss: 0.2253 - val_acc: 0.9516\n",
      "Epoch 38/50\n",
      "1649/1649 [==============================] - 2s 1ms/step - loss: 0.4470 - acc: 0.8126 - val_loss: 0.2248 - val_acc: 0.9249\n",
      "Epoch 39/50\n",
      "1649/1649 [==============================] - 2s 1ms/step - loss: 0.4729 - acc: 0.8150 - val_loss: 0.2287 - val_acc: 0.9395\n",
      "Epoch 40/50\n",
      "1649/1649 [==============================] - 2s 1ms/step - loss: 0.4508 - acc: 0.8205 - val_loss: 0.2033 - val_acc: 0.9467\n",
      "Epoch 41/50\n",
      "1649/1649 [==============================] - 2s 1ms/step - loss: 0.4348 - acc: 0.8278 - val_loss: 0.2087 - val_acc: 0.9395\n",
      "Epoch 42/50\n",
      "1649/1649 [==============================] - 2s 1ms/step - loss: 0.4358 - acc: 0.8399 - val_loss: 0.2092 - val_acc: 0.9395\n",
      "Epoch 43/50\n",
      "1649/1649 [==============================] - 2s 1ms/step - loss: 0.3868 - acc: 0.8472 - val_loss: 0.2013 - val_acc: 0.9419\n",
      "Epoch 44/50\n",
      "1649/1649 [==============================] - 2s 1ms/step - loss: 0.4265 - acc: 0.8302 - val_loss: 0.1933 - val_acc: 0.9322\n",
      "Epoch 45/50\n",
      "1649/1649 [==============================] - 2s 1ms/step - loss: 0.4114 - acc: 0.8405 - val_loss: 0.2009 - val_acc: 0.9467\n",
      "Epoch 46/50\n",
      "1649/1649 [==============================] - 2s 1ms/step - loss: 0.4144 - acc: 0.8351 - val_loss: 0.1936 - val_acc: 0.9467\n"
     ]
    },
    {
     "name": "stdout",
     "output_type": "stream",
     "text": [
      "Epoch 47/50\n",
      "1649/1649 [==============================] - 2s 1ms/step - loss: 0.3802 - acc: 0.8502 - val_loss: 0.1910 - val_acc: 0.9419\n",
      "Epoch 48/50\n",
      "1649/1649 [==============================] - 2s 1ms/step - loss: 0.3810 - acc: 0.8478 - val_loss: 0.1896 - val_acc: 0.9467\n",
      "Epoch 49/50\n",
      "1649/1649 [==============================] - 2s 1ms/step - loss: 0.3753 - acc: 0.8441 - val_loss: 0.1809 - val_acc: 0.9492\n",
      "Epoch 50/50\n",
      "1649/1649 [==============================] - 2s 1ms/step - loss: 0.3688 - acc: 0.8478 - val_loss: 0.1624 - val_acc: 0.9613\n"
     ]
    }
   ],
   "source": [
    "history_CNN = model_CNN.fit(X_train_CNN_reshape,\n",
    "                            y_train_CNN,\n",
    "                            validation_data=(X_val_CNN_reshape, y_val_CNN),\n",
    "                            epochs=EPOCHS,\n",
    "                            batch_size=BATCH_SIZE,\n",
    "                            verbose=1)"
   ]
  },
  {
   "cell_type": "code",
   "execution_count": 33,
   "metadata": {},
   "outputs": [
    {
     "data": {
      "image/png": "[encoded data removed]",
      "text/plain": [
       "<Figure size 432x288 with 1 Axes>"
      ]
     },
     "metadata": {
      "needs_background": "light"
     },
     "output_type": "display_data"
    }
   ],
   "source": [
    "pd.DataFrame(history_CNN.history).plot()\n",
    "plt.grid(True)\n",
    "plt.title('Model performance throughout training CNN')\n",
    "plt.ylabel('metrics')\n",
    "plt.xlabel('epoch')\n",
    "plt.legend(['val_loss', 'val_acc', 'train_loss', 'train_acc'], loc='upper right')\n",
    "plt.show()"
   ]
  },
  {
   "cell_type": "markdown",
   "metadata": {},
   "source": [
    "# Evaluate CNN"
   ]
  },
  {
   "cell_type": "code",
   "execution_count": 25,
   "metadata": {},
   "outputs": [
    {
     "data": {
      "text/plain": [
       "array([[1.88708829e-03, 1.70851563e-05, 9.07214508e-06, ...,\n",
       "        2.40615671e-04, 2.03644746e-07, 1.04511157e-04],\n",
       "       [9.94611859e-01, 6.25233781e-07, 4.46645106e-04, ...,\n",
       "        3.65854049e-08, 1.33799083e-11, 1.29861204e-04],\n",
       "       [9.74996437e-05, 2.96481448e-04, 2.28660656e-06, ...,\n",
       "        1.00096804e-04, 1.99221333e-07, 1.66741404e-06],\n",
       "       ...,\n",
       "       [8.29040857e-07, 1.93890415e-07, 2.54441446e-08, ...,\n",
       "        1.69635659e-05, 9.70820785e-01, 8.51580873e-03],\n",
       "       [2.25057872e-03, 5.83394240e-08, 6.95849337e-07, ...,\n",
       "        2.38468124e-06, 1.62482692e-03, 5.40068150e-02],\n",
       "       [2.09009442e-11, 4.66891611e-03, 2.70576578e-07, ...,\n",
       "        2.34114402e-03, 9.84929979e-01, 1.46401089e-05]], dtype=float32)"
      ]
     },
     "execution_count": 25,
     "metadata": {},
     "output_type": "execute_result"
    }
   ],
   "source": [
    "CNN_pred_val = model_CNN.predict(X_val_CNN_reshape)\n",
    "CNN_pred_val"
   ]
  },
  {
   "cell_type": "code",
   "execution_count": 26,
   "metadata": {},
   "outputs": [
    {
     "data": {
      "text/html": [
       "<div>\n",
       "<style scoped>\n",
       "    .dataframe tbody tr th:only-of-type {\n",
       "        vertical-align: middle;\n",
       "    }\n",
       "\n",
       "    .dataframe tbody tr th {\n",
       "        vertical-align: top;\n",
       "    }\n",
       "\n",
       "    .dataframe thead th {\n",
       "        text-align: right;\n",
       "    }\n",
       "</style>\n",
       "<table border=\"1\" class=\"dataframe\">\n",
       "  <thead>\n",
       "    <tr style=\"text-align: right;\">\n",
       "      <th></th>\n",
       "      <th>0</th>\n",
       "      <th>1</th>\n",
       "      <th>2</th>\n",
       "      <th>3</th>\n",
       "      <th>4</th>\n",
       "      <th>5</th>\n",
       "      <th>6</th>\n",
       "      <th>7</th>\n",
       "      <th>8</th>\n",
       "      <th>9</th>\n",
       "    </tr>\n",
       "  </thead>\n",
       "  <tbody>\n",
       "    <tr>\n",
       "      <td>0</td>\n",
       "      <td>0.001887</td>\n",
       "      <td>1.708516e-05</td>\n",
       "      <td>0.000009</td>\n",
       "      <td>0.884875</td>\n",
       "      <td>0.000073</td>\n",
       "      <td>2.222338e-07</td>\n",
       "      <td>1.127932e-01</td>\n",
       "      <td>2.406157e-04</td>\n",
       "      <td>2.036447e-07</td>\n",
       "      <td>0.000105</td>\n",
       "    </tr>\n",
       "    <tr>\n",
       "      <td>1</td>\n",
       "      <td>0.994612</td>\n",
       "      <td>6.252338e-07</td>\n",
       "      <td>0.000447</td>\n",
       "      <td>0.004749</td>\n",
       "      <td>0.000026</td>\n",
       "      <td>4.460872e-13</td>\n",
       "      <td>3.542550e-05</td>\n",
       "      <td>3.658540e-08</td>\n",
       "      <td>1.337991e-11</td>\n",
       "      <td>0.000130</td>\n",
       "    </tr>\n",
       "    <tr>\n",
       "      <td>2</td>\n",
       "      <td>0.000097</td>\n",
       "      <td>2.964814e-04</td>\n",
       "      <td>0.000002</td>\n",
       "      <td>0.100260</td>\n",
       "      <td>0.000006</td>\n",
       "      <td>1.922292e-06</td>\n",
       "      <td>8.992341e-01</td>\n",
       "      <td>1.000968e-04</td>\n",
       "      <td>1.992213e-07</td>\n",
       "      <td>0.000002</td>\n",
       "    </tr>\n",
       "    <tr>\n",
       "      <td>3</td>\n",
       "      <td>0.999374</td>\n",
       "      <td>1.193558e-10</td>\n",
       "      <td>0.000012</td>\n",
       "      <td>0.000134</td>\n",
       "      <td>0.000009</td>\n",
       "      <td>1.821495e-17</td>\n",
       "      <td>2.351533e-08</td>\n",
       "      <td>2.147725e-12</td>\n",
       "      <td>7.577687e-13</td>\n",
       "      <td>0.000471</td>\n",
       "    </tr>\n",
       "    <tr>\n",
       "      <td>4</td>\n",
       "      <td>0.000013</td>\n",
       "      <td>5.195061e-08</td>\n",
       "      <td>0.000001</td>\n",
       "      <td>0.000076</td>\n",
       "      <td>0.000904</td>\n",
       "      <td>1.586756e-06</td>\n",
       "      <td>2.089952e-04</td>\n",
       "      <td>7.715734e-07</td>\n",
       "      <td>1.047806e-02</td>\n",
       "      <td>0.988316</td>\n",
       "    </tr>\n",
       "  </tbody>\n",
       "</table>\n",
       "</div>"
      ],
      "text/plain": [
       "          0             1         2         3         4             5  \\\n",
       "0  0.001887  1.708516e-05  0.000009  0.884875  0.000073  2.222338e-07   \n",
       "1  0.994612  6.252338e-07  0.000447  0.004749  0.000026  4.460872e-13   \n",
       "2  0.000097  2.964814e-04  0.000002  0.100260  0.000006  1.922292e-06   \n",
       "3  0.999374  1.193558e-10  0.000012  0.000134  0.000009  1.821495e-17   \n",
       "4  0.000013  5.195061e-08  0.000001  0.000076  0.000904  1.586756e-06   \n",
       "\n",
       "              6             7             8         9  \n",
       "0  1.127932e-01  2.406157e-04  2.036447e-07  0.000105  \n",
       "1  3.542550e-05  3.658540e-08  1.337991e-11  0.000130  \n",
       "2  8.992341e-01  1.000968e-04  1.992213e-07  0.000002  \n",
       "3  2.351533e-08  2.147725e-12  7.577687e-13  0.000471  \n",
       "4  2.089952e-04  7.715734e-07  1.047806e-02  0.988316  "
      ]
     },
     "execution_count": 26,
     "metadata": {},
     "output_type": "execute_result"
    }
   ],
   "source": [
    "df_CNN_pred_val = DataFrame(CNN_pred_val, columns=[x for x in range(10)])\n",
    "df_CNN_pred_val.head()"
   ]
  },
  {
   "cell_type": "code",
   "execution_count": 27,
   "metadata": {},
   "outputs": [
    {
     "data": {
      "text/html": [
       "<div>\n",
       "<style scoped>\n",
       "    .dataframe tbody tr th:only-of-type {\n",
       "        vertical-align: middle;\n",
       "    }\n",
       "\n",
       "    .dataframe tbody tr th {\n",
       "        vertical-align: top;\n",
       "    }\n",
       "\n",
       "    .dataframe thead th {\n",
       "        text-align: right;\n",
       "    }\n",
       "</style>\n",
       "<table border=\"1\" class=\"dataframe\">\n",
       "  <thead>\n",
       "    <tr style=\"text-align: right;\">\n",
       "      <th></th>\n",
       "      <th>0</th>\n",
       "      <th>1</th>\n",
       "      <th>2</th>\n",
       "      <th>3</th>\n",
       "      <th>4</th>\n",
       "      <th>5</th>\n",
       "      <th>6</th>\n",
       "      <th>7</th>\n",
       "      <th>8</th>\n",
       "      <th>9</th>\n",
       "      <th>class_CNN_pred</th>\n",
       "    </tr>\n",
       "  </thead>\n",
       "  <tbody>\n",
       "    <tr>\n",
       "      <td>0</td>\n",
       "      <td>0.001887</td>\n",
       "      <td>1.708516e-05</td>\n",
       "      <td>0.000009</td>\n",
       "      <td>0.884875</td>\n",
       "      <td>0.000073</td>\n",
       "      <td>2.222338e-07</td>\n",
       "      <td>1.127932e-01</td>\n",
       "      <td>2.406157e-04</td>\n",
       "      <td>2.036447e-07</td>\n",
       "      <td>0.000105</td>\n",
       "      <td>3</td>\n",
       "    </tr>\n",
       "    <tr>\n",
       "      <td>1</td>\n",
       "      <td>0.994612</td>\n",
       "      <td>6.252338e-07</td>\n",
       "      <td>0.000447</td>\n",
       "      <td>0.004749</td>\n",
       "      <td>0.000026</td>\n",
       "      <td>4.460872e-13</td>\n",
       "      <td>3.542550e-05</td>\n",
       "      <td>3.658540e-08</td>\n",
       "      <td>1.337991e-11</td>\n",
       "      <td>0.000130</td>\n",
       "      <td>0</td>\n",
       "    </tr>\n",
       "    <tr>\n",
       "      <td>2</td>\n",
       "      <td>0.000097</td>\n",
       "      <td>2.964814e-04</td>\n",
       "      <td>0.000002</td>\n",
       "      <td>0.100260</td>\n",
       "      <td>0.000006</td>\n",
       "      <td>1.922292e-06</td>\n",
       "      <td>8.992341e-01</td>\n",
       "      <td>1.000968e-04</td>\n",
       "      <td>1.992213e-07</td>\n",
       "      <td>0.000002</td>\n",
       "      <td>6</td>\n",
       "    </tr>\n",
       "    <tr>\n",
       "      <td>3</td>\n",
       "      <td>0.999374</td>\n",
       "      <td>1.193558e-10</td>\n",
       "      <td>0.000012</td>\n",
       "      <td>0.000134</td>\n",
       "      <td>0.000009</td>\n",
       "      <td>1.821495e-17</td>\n",
       "      <td>2.351533e-08</td>\n",
       "      <td>2.147725e-12</td>\n",
       "      <td>7.577687e-13</td>\n",
       "      <td>0.000471</td>\n",
       "      <td>0</td>\n",
       "    </tr>\n",
       "    <tr>\n",
       "      <td>4</td>\n",
       "      <td>0.000013</td>\n",
       "      <td>5.195061e-08</td>\n",
       "      <td>0.000001</td>\n",
       "      <td>0.000076</td>\n",
       "      <td>0.000904</td>\n",
       "      <td>1.586756e-06</td>\n",
       "      <td>2.089952e-04</td>\n",
       "      <td>7.715734e-07</td>\n",
       "      <td>1.047806e-02</td>\n",
       "      <td>0.988316</td>\n",
       "      <td>9</td>\n",
       "    </tr>\n",
       "  </tbody>\n",
       "</table>\n",
       "</div>"
      ],
      "text/plain": [
       "          0             1         2         3         4             5  \\\n",
       "0  0.001887  1.708516e-05  0.000009  0.884875  0.000073  2.222338e-07   \n",
       "1  0.994612  6.252338e-07  0.000447  0.004749  0.000026  4.460872e-13   \n",
       "2  0.000097  2.964814e-04  0.000002  0.100260  0.000006  1.922292e-06   \n",
       "3  0.999374  1.193558e-10  0.000012  0.000134  0.000009  1.821495e-17   \n",
       "4  0.000013  5.195061e-08  0.000001  0.000076  0.000904  1.586756e-06   \n",
       "\n",
       "              6             7             8         9  class_CNN_pred  \n",
       "0  1.127932e-01  2.406157e-04  2.036447e-07  0.000105               3  \n",
       "1  3.542550e-05  3.658540e-08  1.337991e-11  0.000130               0  \n",
       "2  8.992341e-01  1.000968e-04  1.992213e-07  0.000002               6  \n",
       "3  2.351533e-08  2.147725e-12  7.577687e-13  0.000471               0  \n",
       "4  2.089952e-04  7.715734e-07  1.047806e-02  0.988316               9  "
      ]
     },
     "execution_count": 27,
     "metadata": {},
     "output_type": "execute_result"
    }
   ],
   "source": [
    "df_CNN_pred_val['class_CNN_pred']=(df_CNN_pred_val[range(10)].idxmax(axis=1)).astype('int')\n",
    "df_CNN_pred_val.head()"
   ]
  },
  {
   "cell_type": "code",
   "execution_count": 28,
   "metadata": {},
   "outputs": [],
   "source": [
    "y_CNN_pred_val = df_CNN_pred_val['class_CNN_pred'].to_numpy()\n",
    "y_CNN_pred_val = y_CNN_pred_val.reshape(-1,1)"
   ]
  },
  {
   "cell_type": "code",
   "execution_count": 29,
   "metadata": {},
   "outputs": [
    {
     "data": {
      "text/plain": [
       "(413, 1)"
      ]
     },
     "execution_count": 29,
     "metadata": {},
     "output_type": "execute_result"
    }
   ],
   "source": [
    "y_CNN_pred_val.shape"
   ]
  },
  {
   "cell_type": "code",
   "execution_count": 30,
   "metadata": {},
   "outputs": [
    {
     "data": {
      "text/plain": [
       "(413, 1)"
      ]
     },
     "execution_count": 30,
     "metadata": {},
     "output_type": "execute_result"
    }
   ],
   "source": [
    "y_val_CNN.shape"
   ]
  },
  {
   "cell_type": "code",
   "execution_count": 32,
   "metadata": {},
   "outputs": [
    {
     "data": {
      "text/plain": [
       "0.9612590799031477"
      ]
     },
     "execution_count": 32,
     "metadata": {},
     "output_type": "execute_result"
    }
   ],
   "source": [
    "from sklearn.metrics import accuracy_score\n",
    "\n",
    "accuracy_score(y_val_CNN, y_CNN_pred_val)"
   ]
  }
 ],
 "metadata": {
  "kernelspec": {
   "display_name": "Python 3",
   "language": "python",
   "name": "python3"
  },
  "language_info": {
   "codemirror_mode": {
    "name": "ipython",
    "version": 3
   },
   "file_extension": ".py",
   "mimetype": "text/x-python",
   "name": "python",
   "nbconvert_exporter": "python",
   "pygments_lexer": "ipython3",
   "version": "3.7.4"
  }
 },
 "nbformat": 4,
 "nbformat_minor": 2
}
